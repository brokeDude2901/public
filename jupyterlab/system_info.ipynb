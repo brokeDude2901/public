{
 "cells": [
  {
   "cell_type": "markdown",
   "id": "2ca9c7aa-1750-4880-81c3-47085842e8b7",
   "metadata": {
    "tags": []
   },
   "source": [
    "## PyTorch and TensorFlow Information"
   ]
  },
  {
   "cell_type": "code",
   "execution_count": null,
   "id": "f9ff2665-0c73-4d68-bc88-21ff4348aa0e",
   "metadata": {},
   "outputs": [],
   "source": [
    "!pip3 show torch ; pip3 show tensorflow-gpu"
   ]
  },
  {
   "cell_type": "markdown",
   "id": "9913d400-8705-4157-9761-ad9de0dd6582",
   "metadata": {
    "tags": []
   },
   "source": [
    "## System Information\n",
    "This will refresh every 10 seconds"
   ]
  },
  {
   "cell_type": "code",
   "execution_count": null,
   "id": "40914d3b-54c4-47f3-8ecf-1660c922705e",
   "metadata": {},
   "outputs": [],
   "source": [
    "from IPython.display import clear_output\n",
    "import time\n",
    "\n",
    "while True:\n",
    "    !nvidia-smi && neofetch --stdout\n",
    "    time.sleep(10)\n",
    "    clear_output(wait=True)"
   ]
  }
 ],
 "metadata": {
  "kernelspec": {
   "display_name": "Python 3 (ipykernel)",
   "language": "python",
   "name": "python3"
  },
  "language_info": {
   "codemirror_mode": {
    "name": "ipython",
    "version": 3
   },
   "file_extension": ".py",
   "mimetype": "text/x-python",
   "name": "python",
   "nbconvert_exporter": "python",
   "pygments_lexer": "ipython3",
   "version": "3.8.10"
  },
  "toc-autonumbering": false,
  "toc-showmarkdowntxt": true
 },
 "nbformat": 4,
 "nbformat_minor": 5
}
